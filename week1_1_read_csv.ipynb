{
 "cells": [
  {
   "cell_type": "code",
   "execution_count": 1,
   "id": "8d590641",
   "metadata": {},
   "outputs": [],
   "source": [
    "import pandas as pd"
   ]
  },
  {
   "cell_type": "markdown",
   "id": "a60d6d31",
   "metadata": {},
   "source": [
    "## 데이터 불러오기"
   ]
  },
  {
   "cell_type": "code",
   "execution_count": 2,
   "id": "dd0b0f29",
   "metadata": {},
   "outputs": [],
   "source": [
    "df = pd.read_csv(\"week1_1.csv\")\n",
    "display (df.head())\n",
    "print (df.shape)"
   ]
  },
  {
   "cell_type": "markdown",
   "id": "9d0ef6f0",
   "metadata": {},
   "source": [
    "### nrows"
   ]
  },
  {
   "cell_type": "code",
   "execution_count": 3,
   "id": "6db3b280",
   "metadata": {},
   "outputs": [],
   "source": [
    "# 데이터의 일부만 가져오고 싶을 때 (데이터의 크기가 너무 커서 일부만 가져온 뒤 빠르게 데이터 확인하고 싶을 때 사용.)\n",
    "df = pd.read_csv(\"week1_1.csv\", nrows=5)\n",
    "display (df.head())\n",
    "print (df.shape)"
   ]
  },
  {
   "cell_type": "markdown",
   "id": "de096cf4",
   "metadata": {},
   "source": [
    "### sep"
   ]
  },
  {
   "cell_type": "code",
   "execution_count": 4,
   "id": "b3be0ae7",
   "metadata": {},
   "outputs": [],
   "source": [
    "df = pd.read_csv(\"week1_1.tsv\")  # tsv 파일 불러오기 (tab seqerated )\n",
    "df.head()"
   ]
  },
  {
   "cell_type": "code",
   "execution_count": 5,
   "id": "20ef8d8f",
   "metadata": {},
   "outputs": [],
   "source": [
    "df = pd.read_csv(\"week1_1.tsv\", sep='\\t')\n",
    "df.head()"
   ]
  },
  {
   "cell_type": "markdown",
   "id": "c382c1f4",
   "metadata": {},
   "source": [
    "## COLUMN"
   ]
  },
  {
   "cell_type": "markdown",
   "id": "8ae7bd68",
   "metadata": {},
   "source": [
    "### header=None"
   ]
  },
  {
   "cell_type": "code",
   "execution_count": 6,
   "id": "f5dcd186",
   "metadata": {},
   "outputs": [],
   "source": [
    "df = pd.read_csv(\"week1_1.csv\", header=None)  # 첫 행이 컬럼명이 아니고, 컬럼명 없이 데이터로만 이뤄져 있을 때. \n",
    "df.head()"
   ]
  },
  {
   "cell_type": "markdown",
   "id": "df2f6f58",
   "metadata": {},
   "source": [
    "### names"
   ]
  },
  {
   "cell_type": "code",
   "execution_count": 7,
   "id": "c697cb31",
   "metadata": {},
   "outputs": [],
   "source": [
    "df = pd.read_csv(\"week1_1.csv\", names=['c1', 'c2', 'c3', 'c4', 'c5', 'c6'])  # 위와 같은 상황에서 따로 컬럼명을 지정해주고 싶을 때.\n",
    "df.head()"
   ]
  },
  {
   "cell_type": "markdown",
   "id": "dc8dfe5b",
   "metadata": {},
   "source": [
    "### header=None & names"
   ]
  },
  {
   "cell_type": "code",
   "execution_count": 8,
   "id": "8dfeb98b",
   "metadata": {},
   "outputs": [],
   "source": [
    "df = pd.read_csv(\"week1_1.csv\", header=None, names=['c1', 'c2', 'c3', 'c4', 'c5', 'c6'])  # 첫 행이 컬럼명이 맞는데, 컬럼명을 새로 지정해주고 싶을 때.\n",
    "df.head()"
   ]
  },
  {
   "cell_type": "markdown",
   "id": "6f426357",
   "metadata": {},
   "source": [
    "### header=1"
   ]
  },
  {
   "cell_type": "code",
   "execution_count": 9,
   "id": "19d58db2",
   "metadata": {},
   "outputs": [],
   "source": [
    "df = pd.read_csv(\"week1_1.csv\", header=1) # 두번 째 행을 컬럼명으로 하고 싶을 때 (주로 엑셀 형태로 관리되었던 파일에서 사용.)\n",
    "df.head()"
   ]
  },
  {
   "cell_type": "markdown",
   "id": "6b098c4e",
   "metadata": {},
   "source": [
    "# INDEX"
   ]
  },
  {
   "cell_type": "code",
   "execution_count": 10,
   "id": "2e7fe762",
   "metadata": {},
   "outputs": [],
   "source": [
    "df = pd.read_csv(\"week1_1.csv\")\n",
    "df.head()"
   ]
  },
  {
   "cell_type": "code",
   "execution_count": 11,
   "id": "367af41e",
   "metadata": {},
   "outputs": [],
   "source": [
    "df = pd.read_csv(\"week1_1.csv\", index_col=0)  # 첫번째 열을 index로 사용하고 싶을 때.\n",
    "df.head()"
   ]
  },
  {
   "cell_type": "code",
   "execution_count": 12,
   "id": "3de25067",
   "metadata": {},
   "outputs": [],
   "source": [
    "df = pd.read_csv(\"week1_1.csv\", index_col=0)  # 첫번째 열을 index로 사용하고 싶을 때.\n",
    "df.index.name = None  # index name 을 없애고 싶을 때.\n",
    "print (df.index.dtype)\n",
    "df.head()"
   ]
  },
  {
   "cell_type": "markdown",
   "id": "ff7ddb5c",
   "metadata": {},
   "source": [
    "### parse_dates"
   ]
  },
  {
   "cell_type": "code",
   "execution_count": 13,
   "id": "f9fa8629",
   "metadata": {},
   "outputs": [],
   "source": [
    "# 첫 번째 열을 날짜 형태의 인덱스로 사용\n",
    "df = pd.read_csv(\"week1_1.csv\", index_col=0, parse_dates=True)  # parse_dates=True면 index를 dates 형태로 파싱.\n",
    "df.index.name = None  # index name 을 없애고 싶을 때.\n",
    "print (df.index.dtype)\n",
    "df.head()"
   ]
  },
  {
   "cell_type": "code",
   "execution_count": 14,
   "id": "8fa57ef7",
   "metadata": {},
   "outputs": [],
   "source": [
    "# 좋은 점\n",
    "df[df.index.month == 10]"
   ]
  },
  {
   "cell_type": "code",
   "execution_count": 15,
   "id": "3ac14187",
   "metadata": {},
   "outputs": [],
   "source": [
    "from datetime import datetime"
   ]
  },
  {
   "cell_type": "code",
   "execution_count": 16,
   "id": "63d7faf8",
   "metadata": {},
   "outputs": [],
   "source": [
    "# datetime 객체를 사용하여 2023년 10월 1일 이후의 데이터만 선택\n",
    "cutoff_date = datetime(2023, 10, 1)  # 조건으로 사용할 날짜\n",
    "df[df.index > cutoff_date]"
   ]
  },
  {
   "cell_type": "code",
   "execution_count": 17,
   "id": "a5a373ad",
   "metadata": {},
   "outputs": [],
   "source": [
    "# 첫 번째 열을 날짜 형태의 인덱스로 사용\n",
    "df = pd.read_csv(\"week1_1.csv\", index_col=0, parse_dates=True)  # parse_dates=True면 index를 dates 형태로 파싱.\n",
    "df.index.name = None  # index name 을 없애고 싶을 때.\n",
    "print (df.index.dtype)\n",
    "df.head()"
   ]
  },
  {
   "cell_type": "code",
   "execution_count": 18,
   "id": "730273b3",
   "metadata": {},
   "outputs": [],
   "source": [
    "df = pd.read_csv(\"week1_1.csv\")\n",
    "df.dtypes"
   ]
  },
  {
   "cell_type": "code",
   "execution_count": 19,
   "id": "3da152c8",
   "metadata": {},
   "outputs": [],
   "source": [
    "df = pd.read_csv(\"week1_1.csv\")\n",
    "df['datetime'] = pd.to_datetime(df['datetime'])\n",
    "df.head()"
   ]
  },
  {
   "cell_type": "code",
   "execution_count": 20,
   "id": "fb45ee68",
   "metadata": {},
   "outputs": [],
   "source": [
    "df.dtypes"
   ]
  },
  {
   "cell_type": "markdown",
   "id": "273b56d2",
   "metadata": {},
   "source": [
    "### dtype"
   ]
  },
  {
   "cell_type": "code",
   "execution_count": 21,
   "id": "f845658e",
   "metadata": {},
   "outputs": [],
   "source": [
    "df = pd.read_csv(\"week1_1.csv\", dtype={'number':'object'})\n",
    "df.dtypes"
   ]
  },
  {
   "cell_type": "markdown",
   "id": "c0d658a9",
   "metadata": {},
   "source": [
    "# XML Data 파싱"
   ]
  },
  {
   "cell_type": "code",
   "execution_count": 22,
   "id": "f857fe7d",
   "metadata": {},
   "outputs": [],
   "source": [
    "# ! pip install requests"
   ]
  },
  {
   "cell_type": "code",
   "execution_count": 23,
   "id": "5c8a435d",
   "metadata": {},
   "outputs": [],
   "source": [
    "import requests\n",
    "\n",
    "serviceKey = \"\"  # 일반 인증키 (Decoding)\n",
    "\n",
    "url = 'http://apis.data.go.kr/B551182/yadmOpCloInfoService1/getHospPharmacyOpCloList'\n",
    "params ={'serviceKey' : serviceKey, 'numOfRows' : '10', 'pageNo' : '1', 'crtrYm' : '202401', 'yadmTp' : '1', 'opCloTp' : '1' }\n",
    "\n",
    "response = requests.get(url, params=params)\n",
    "# print(response.content)  # bytes 형태여서 보기 힘듦.\n",
    "content = response.content.decode('utf-8')  # utf-8로 디코딩함. \n",
    "print(content)"
   ]
  },
  {
   "cell_type": "code",
   "execution_count": 24,
   "id": "fec01afd",
   "metadata": {},
   "outputs": [],
   "source": [
    "# ! pip install lxml"
   ]
  },
  {
   "cell_type": "code",
   "execution_count": 25,
   "id": "a6e92eac",
   "metadata": {},
   "outputs": [],
   "source": [
    "df = pd.read_xml(response.content, xpath=\".//item\")  # 추가된 코드\n",
    "df"
   ]
  },
  {
   "cell_type": "markdown",
   "id": "3fa60cad",
   "metadata": {},
   "source": [
    "# to_csv"
   ]
  },
  {
   "cell_type": "code",
   "execution_count": 26,
   "id": "c3b11fee",
   "metadata": {},
   "outputs": [],
   "source": [
    "df.to_csv(\"file_name.csv\")  # 가장 일반적인 형태"
   ]
  },
  {
   "cell_type": "markdown",
   "id": "99cf449a",
   "metadata": {},
   "source": [
    "###  encoding"
   ]
  },
  {
   "cell_type": "code",
   "execution_count": 27,
   "id": "3920a26b",
   "metadata": {},
   "outputs": [],
   "source": [
    "df.to_csv(\"file_name.csv\", encoding='cp949')  # encoding의 default는 utf-8."
   ]
  },
  {
   "cell_type": "markdown",
   "id": "e7870dcf",
   "metadata": {},
   "source": [
    "### index, header"
   ]
  },
  {
   "cell_type": "code",
   "execution_count": 28,
   "id": "ec89de74",
   "metadata": {},
   "outputs": [],
   "source": [
    "df.to_csv(\"file_name.csv\", index=False)  # index를 저장하고 싶지 않을 때."
   ]
  },
  {
   "cell_type": "code",
   "execution_count": 29,
   "id": "aadc0cd6",
   "metadata": {},
   "outputs": [],
   "source": [
    "df.to_csv(\"file_name.csv\", header=False)  # header를 저장하고 싶지 않을 때. (자주 사용X)"
   ]
  },
  {
   "cell_type": "markdown",
   "id": "0ff6382f",
   "metadata": {},
   "source": [
    "### mode"
   ]
  },
  {
   "cell_type": "code",
   "execution_count": 30,
   "id": "8e2e4c65",
   "metadata": {},
   "outputs": [],
   "source": [
    "df.to_csv(\"file_name.csv\", mode='w')  # 파일이 이미 있을 경우 덮어 쓰기."
   ]
  },
  {
   "cell_type": "code",
   "execution_count": 31,
   "id": "0f94caef",
   "metadata": {},
   "outputs": [],
   "source": [
    "df.to_csv(\"file_name.csv\", mode='a')  # 파일이 이미 있을 경우 append하기 (모델 성능을 csv파일로 저장할 때.)"
   ]
  },
  {
   "cell_type": "code",
   "execution_count": 32,
   "id": "07dc2a88",
   "metadata": {},
   "outputs": [],
   "source": [
    "df.to_csv(\"file_name.csv\", mode='x')  # 파일이 이미 있을 경우 생성 안 함."
   ]
  },
  {
   "cell_type": "code",
   "execution_count": 33,
   "id": "d0be06ac",
   "metadata": {},
   "outputs": [],
   "source": [
    "df.to_csv(\"file_name.tsv\", sep='\\t')  # tsv로 저장 (자주 사용X)"
   ]
  },
  {
   "cell_type": "code",
   "execution_count": null,
   "id": "288e520f",
   "metadata": {},
   "outputs": [],
   "source": []
  }
 ],
 "metadata": {
  "kernelspec": {
   "display_name": "Python 3 (ipykernel)",
   "language": "python",
   "name": "python3"
  },
  "language_info": {
   "codemirror_mode": {
    "name": "ipython",
    "version": 3
   },
   "file_extension": ".py",
   "mimetype": "text/x-python",
   "name": "python",
   "nbconvert_exporter": "python",
   "pygments_lexer": "ipython3",
   "version": "3.9.18"
  }
 },
 "nbformat": 4,
 "nbformat_minor": 5
}
