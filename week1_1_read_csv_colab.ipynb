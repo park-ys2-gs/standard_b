{
  "cells": [
    {
      "cell_type": "code",
      "execution_count": null,
      "id": "8d590641",
      "metadata": {
        "id": "8d590641"
      },
      "outputs": [],
      "source": [
        "import pandas as pd"
      ]
    },
    {
      "cell_type": "markdown",
      "id": "a60d6d31",
      "metadata": {
        "id": "a60d6d31"
      },
      "source": [
        "## 데이터 불러오기"
      ]
    },
    {
      "cell_type": "code",
      "execution_count": null,
      "id": "dd0b0f29",
      "metadata": {
        "id": "dd0b0f29",
        "outputId": "e275ef7b-e015-4f3f-cf26-5c0ead583831"
      },
      "outputs": [
        {
          "data": {
            "text/html": [
              "<div>\n",
              "<style scoped>\n",
              "    .dataframe tbody tr th:only-of-type {\n",
              "        vertical-align: middle;\n",
              "    }\n",
              "\n",
              "    .dataframe tbody tr th {\n",
              "        vertical-align: top;\n",
              "    }\n",
              "\n",
              "    .dataframe thead th {\n",
              "        text-align: right;\n",
              "    }\n",
              "</style>\n",
              "<table border=\"1\" class=\"dataframe\">\n",
              "  <thead>\n",
              "    <tr style=\"text-align: right;\">\n",
              "      <th></th>\n",
              "      <th>datetime</th>\n",
              "      <th>first_name</th>\n",
              "      <th>last_name</th>\n",
              "      <th>email</th>\n",
              "      <th>gender</th>\n",
              "      <th>number</th>\n",
              "    </tr>\n",
              "  </thead>\n",
              "  <tbody>\n",
              "    <tr>\n",
              "      <th>0</th>\n",
              "      <td>2024-03-15</td>\n",
              "      <td>Samaria</td>\n",
              "      <td>McConnal</td>\n",
              "      <td>smcconnal0@arstechnica.com</td>\n",
              "      <td>Genderqueer</td>\n",
              "      <td>3</td>\n",
              "    </tr>\n",
              "    <tr>\n",
              "      <th>1</th>\n",
              "      <td>2023-07-16</td>\n",
              "      <td>Janifer</td>\n",
              "      <td>Klimczak</td>\n",
              "      <td>jklimczak1@theguardian.com</td>\n",
              "      <td>Female</td>\n",
              "      <td>86</td>\n",
              "    </tr>\n",
              "    <tr>\n",
              "      <th>2</th>\n",
              "      <td>2023-11-07</td>\n",
              "      <td>Julissa</td>\n",
              "      <td>Swate</td>\n",
              "      <td>jswate2@ox.ac.uk</td>\n",
              "      <td>Female</td>\n",
              "      <td>66</td>\n",
              "    </tr>\n",
              "    <tr>\n",
              "      <th>3</th>\n",
              "      <td>2023-05-26</td>\n",
              "      <td>Abigale</td>\n",
              "      <td>Prowse</td>\n",
              "      <td>aprowse3@thetimes.co.uk</td>\n",
              "      <td>Female</td>\n",
              "      <td>84</td>\n",
              "    </tr>\n",
              "    <tr>\n",
              "      <th>4</th>\n",
              "      <td>2023-08-29</td>\n",
              "      <td>Breanne</td>\n",
              "      <td>McConville</td>\n",
              "      <td>bmcconville4@studiopress.com</td>\n",
              "      <td>Genderfluid</td>\n",
              "      <td>70</td>\n",
              "    </tr>\n",
              "  </tbody>\n",
              "</table>\n",
              "</div>"
            ],
            "text/plain": [
              "     datetime first_name   last_name                         email   \n",
              "0  2024-03-15    Samaria    McConnal    smcconnal0@arstechnica.com  \\\n",
              "1  2023-07-16    Janifer    Klimczak    jklimczak1@theguardian.com   \n",
              "2  2023-11-07    Julissa       Swate              jswate2@ox.ac.uk   \n",
              "3  2023-05-26    Abigale      Prowse       aprowse3@thetimes.co.uk   \n",
              "4  2023-08-29    Breanne  McConville  bmcconville4@studiopress.com   \n",
              "\n",
              "        gender  number  \n",
              "0  Genderqueer       3  \n",
              "1       Female      86  \n",
              "2       Female      66  \n",
              "3       Female      84  \n",
              "4  Genderfluid      70  "
            ]
          },
          "metadata": {},
          "output_type": "display_data"
        },
        {
          "name": "stdout",
          "output_type": "stream",
          "text": [
            "(50, 6)\n"
          ]
        }
      ],
      "source": [
        "df = pd.read_csv(\"/content/week1_1.csv\")\n",
        "display (df.head())\n",
        "print (df.shape)"
      ]
    },
    {
      "cell_type": "markdown",
      "id": "9d0ef6f0",
      "metadata": {
        "id": "9d0ef6f0"
      },
      "source": [
        "### nrows"
      ]
    },
    {
      "cell_type": "code",
      "execution_count": null,
      "id": "6db3b280",
      "metadata": {
        "id": "6db3b280",
        "outputId": "aff8d73a-e2cf-49ed-9d21-cb8b2427b1ca"
      },
      "outputs": [
        {
          "data": {
            "text/html": [
              "<div>\n",
              "<style scoped>\n",
              "    .dataframe tbody tr th:only-of-type {\n",
              "        vertical-align: middle;\n",
              "    }\n",
              "\n",
              "    .dataframe tbody tr th {\n",
              "        vertical-align: top;\n",
              "    }\n",
              "\n",
              "    .dataframe thead th {\n",
              "        text-align: right;\n",
              "    }\n",
              "</style>\n",
              "<table border=\"1\" class=\"dataframe\">\n",
              "  <thead>\n",
              "    <tr style=\"text-align: right;\">\n",
              "      <th></th>\n",
              "      <th>datetime</th>\n",
              "      <th>first_name</th>\n",
              "      <th>last_name</th>\n",
              "      <th>email</th>\n",
              "      <th>gender</th>\n",
              "      <th>number</th>\n",
              "    </tr>\n",
              "  </thead>\n",
              "  <tbody>\n",
              "    <tr>\n",
              "      <th>0</th>\n",
              "      <td>2024-03-15</td>\n",
              "      <td>Samaria</td>\n",
              "      <td>McConnal</td>\n",
              "      <td>smcconnal0@arstechnica.com</td>\n",
              "      <td>Genderqueer</td>\n",
              "      <td>3</td>\n",
              "    </tr>\n",
              "    <tr>\n",
              "      <th>1</th>\n",
              "      <td>2023-07-16</td>\n",
              "      <td>Janifer</td>\n",
              "      <td>Klimczak</td>\n",
              "      <td>jklimczak1@theguardian.com</td>\n",
              "      <td>Female</td>\n",
              "      <td>86</td>\n",
              "    </tr>\n",
              "    <tr>\n",
              "      <th>2</th>\n",
              "      <td>2023-11-07</td>\n",
              "      <td>Julissa</td>\n",
              "      <td>Swate</td>\n",
              "      <td>jswate2@ox.ac.uk</td>\n",
              "      <td>Female</td>\n",
              "      <td>66</td>\n",
              "    </tr>\n",
              "    <tr>\n",
              "      <th>3</th>\n",
              "      <td>2023-05-26</td>\n",
              "      <td>Abigale</td>\n",
              "      <td>Prowse</td>\n",
              "      <td>aprowse3@thetimes.co.uk</td>\n",
              "      <td>Female</td>\n",
              "      <td>84</td>\n",
              "    </tr>\n",
              "    <tr>\n",
              "      <th>4</th>\n",
              "      <td>2023-08-29</td>\n",
              "      <td>Breanne</td>\n",
              "      <td>McConville</td>\n",
              "      <td>bmcconville4@studiopress.com</td>\n",
              "      <td>Genderfluid</td>\n",
              "      <td>70</td>\n",
              "    </tr>\n",
              "  </tbody>\n",
              "</table>\n",
              "</div>"
            ],
            "text/plain": [
              "     datetime first_name   last_name                         email   \n",
              "0  2024-03-15    Samaria    McConnal    smcconnal0@arstechnica.com  \\\n",
              "1  2023-07-16    Janifer    Klimczak    jklimczak1@theguardian.com   \n",
              "2  2023-11-07    Julissa       Swate              jswate2@ox.ac.uk   \n",
              "3  2023-05-26    Abigale      Prowse       aprowse3@thetimes.co.uk   \n",
              "4  2023-08-29    Breanne  McConville  bmcconville4@studiopress.com   \n",
              "\n",
              "        gender  number  \n",
              "0  Genderqueer       3  \n",
              "1       Female      86  \n",
              "2       Female      66  \n",
              "3       Female      84  \n",
              "4  Genderfluid      70  "
            ]
          },
          "metadata": {},
          "output_type": "display_data"
        },
        {
          "name": "stdout",
          "output_type": "stream",
          "text": [
            "(5, 6)\n"
          ]
        }
      ],
      "source": [
        "# 데이터의 일부만 가져오고 싶을 때 (데이터의 크기가 너무 커서 일부만 가져온 뒤 빠르게 데이터 확인하고 싶을 때 사용.)\n",
        "df = pd.read_csv(\"/content/week1_1.csv\", nrows=5)\n",
        "display (df.head())\n",
        "print (df.shape)"
      ]
    },
    {
      "cell_type": "markdown",
      "id": "de096cf4",
      "metadata": {
        "id": "de096cf4"
      },
      "source": [
        "### sep"
      ]
    },
    {
      "cell_type": "code",
      "execution_count": null,
      "id": "b3be0ae7",
      "metadata": {
        "id": "b3be0ae7",
        "outputId": "53d16c8e-c803-4df4-bea0-ad78e134d261"
      },
      "outputs": [
        {
          "data": {
            "text/html": [
              "<div>\n",
              "<style scoped>\n",
              "    .dataframe tbody tr th:only-of-type {\n",
              "        vertical-align: middle;\n",
              "    }\n",
              "\n",
              "    .dataframe tbody tr th {\n",
              "        vertical-align: top;\n",
              "    }\n",
              "\n",
              "    .dataframe thead th {\n",
              "        text-align: right;\n",
              "    }\n",
              "</style>\n",
              "<table border=\"1\" class=\"dataframe\">\n",
              "  <thead>\n",
              "    <tr style=\"text-align: right;\">\n",
              "      <th></th>\n",
              "      <th>id\\tfirst_name\\tlast_name\\temail\\tgender\\tip_address\\t한글</th>\n",
              "    </tr>\n",
              "  </thead>\n",
              "  <tbody>\n",
              "    <tr>\n",
              "      <th>0</th>\n",
              "      <td>2023.3.30\\tGus\\tShadbolt\\tgshadbolt0@mit.edu\\t...</td>\n",
              "    </tr>\n",
              "    <tr>\n",
              "      <th>1</th>\n",
              "      <td>2023.11.20\\tGabie\\tRonisch\\tgronisch1@google.d...</td>\n",
              "    </tr>\n",
              "    <tr>\n",
              "      <th>2</th>\n",
              "      <td>2023.8.28\\tCam\\tTatersale\\tctatersale2@netlog....</td>\n",
              "    </tr>\n",
              "    <tr>\n",
              "      <th>3</th>\n",
              "      <td>2023.8.8\\tRuben\\tMatchett\\trmatchett3@php.net\\...</td>\n",
              "    </tr>\n",
              "    <tr>\n",
              "      <th>4</th>\n",
              "      <td>2023.12.9\\tCecilia\\tCasassa\\tccasassa4@free.fr...</td>\n",
              "    </tr>\n",
              "  </tbody>\n",
              "</table>\n",
              "</div>"
            ],
            "text/plain": [
              "  id\\tfirst_name\\tlast_name\\temail\\tgender\\tip_address\\t한글\n",
              "0  2023.3.30\\tGus\\tShadbolt\\tgshadbolt0@mit.edu\\t...      \n",
              "1  2023.11.20\\tGabie\\tRonisch\\tgronisch1@google.d...      \n",
              "2  2023.8.28\\tCam\\tTatersale\\tctatersale2@netlog....      \n",
              "3  2023.8.8\\tRuben\\tMatchett\\trmatchett3@php.net\\...      \n",
              "4  2023.12.9\\tCecilia\\tCasassa\\tccasassa4@free.fr...      "
            ]
          },
          "execution_count": 4,
          "metadata": {},
          "output_type": "execute_result"
        }
      ],
      "source": [
        "df = pd.read_csv(\"/content/week1_1.tsv\")  # tsv 파일 불러오기 (tab seqerated )\n",
        "df.head()"
      ]
    },
    {
      "cell_type": "code",
      "execution_count": null,
      "id": "20ef8d8f",
      "metadata": {
        "id": "20ef8d8f",
        "outputId": "863f8e8e-2667-42e7-8c1f-adae0be4fa16"
      },
      "outputs": [
        {
          "data": {
            "text/html": [
              "<div>\n",
              "<style scoped>\n",
              "    .dataframe tbody tr th:only-of-type {\n",
              "        vertical-align: middle;\n",
              "    }\n",
              "\n",
              "    .dataframe tbody tr th {\n",
              "        vertical-align: top;\n",
              "    }\n",
              "\n",
              "    .dataframe thead th {\n",
              "        text-align: right;\n",
              "    }\n",
              "</style>\n",
              "<table border=\"1\" class=\"dataframe\">\n",
              "  <thead>\n",
              "    <tr style=\"text-align: right;\">\n",
              "      <th></th>\n",
              "      <th>id</th>\n",
              "      <th>first_name</th>\n",
              "      <th>last_name</th>\n",
              "      <th>email</th>\n",
              "      <th>gender</th>\n",
              "      <th>ip_address</th>\n",
              "      <th>한글</th>\n",
              "    </tr>\n",
              "  </thead>\n",
              "  <tbody>\n",
              "    <tr>\n",
              "      <th>0</th>\n",
              "      <td>2023.3.30</td>\n",
              "      <td>Gus</td>\n",
              "      <td>Shadbolt</td>\n",
              "      <td>gshadbolt0@mit.edu</td>\n",
              "      <td>Female</td>\n",
              "      <td>49.167.8.108</td>\n",
              "      <td>한글</td>\n",
              "    </tr>\n",
              "    <tr>\n",
              "      <th>1</th>\n",
              "      <td>2023.11.20</td>\n",
              "      <td>Gabie</td>\n",
              "      <td>Ronisch</td>\n",
              "      <td>gronisch1@google.de</td>\n",
              "      <td>Male</td>\n",
              "      <td>49.138.222.186</td>\n",
              "      <td>한글</td>\n",
              "    </tr>\n",
              "    <tr>\n",
              "      <th>2</th>\n",
              "      <td>2023.8.28</td>\n",
              "      <td>Cam</td>\n",
              "      <td>Tatersale</td>\n",
              "      <td>ctatersale2@netlog.com</td>\n",
              "      <td>Male</td>\n",
              "      <td>129.124.54.16</td>\n",
              "      <td>한글</td>\n",
              "    </tr>\n",
              "    <tr>\n",
              "      <th>3</th>\n",
              "      <td>2023.8.8</td>\n",
              "      <td>Ruben</td>\n",
              "      <td>Matchett</td>\n",
              "      <td>rmatchett3@php.net</td>\n",
              "      <td>Male</td>\n",
              "      <td>9.239.75.146</td>\n",
              "      <td>한글</td>\n",
              "    </tr>\n",
              "    <tr>\n",
              "      <th>4</th>\n",
              "      <td>2023.12.9</td>\n",
              "      <td>Cecilia</td>\n",
              "      <td>Casassa</td>\n",
              "      <td>ccasassa4@free.fr</td>\n",
              "      <td>Female</td>\n",
              "      <td>194.18.2.138</td>\n",
              "      <td>한글</td>\n",
              "    </tr>\n",
              "  </tbody>\n",
              "</table>\n",
              "</div>"
            ],
            "text/plain": [
              "           id first_name  last_name                   email  gender   \n",
              "0   2023.3.30        Gus   Shadbolt      gshadbolt0@mit.edu  Female  \\\n",
              "1  2023.11.20      Gabie    Ronisch     gronisch1@google.de    Male   \n",
              "2   2023.8.28        Cam  Tatersale  ctatersale2@netlog.com    Male   \n",
              "3    2023.8.8      Ruben   Matchett      rmatchett3@php.net    Male   \n",
              "4   2023.12.9    Cecilia    Casassa       ccasassa4@free.fr  Female   \n",
              "\n",
              "       ip_address  한글  \n",
              "0    49.167.8.108  한글  \n",
              "1  49.138.222.186  한글  \n",
              "2   129.124.54.16  한글  \n",
              "3    9.239.75.146  한글  \n",
              "4    194.18.2.138  한글  "
            ]
          },
          "execution_count": 5,
          "metadata": {},
          "output_type": "execute_result"
        }
      ],
      "source": [
        "df = pd.read_csv(\"/content/week1_1.tsv\", sep='\\t')\n",
        "df.head()"
      ]
    },
    {
      "cell_type": "markdown",
      "id": "c382c1f4",
      "metadata": {
        "id": "c382c1f4"
      },
      "source": [
        "## COLUMN"
      ]
    },
    {
      "cell_type": "markdown",
      "id": "8ae7bd68",
      "metadata": {
        "id": "8ae7bd68"
      },
      "source": [
        "### header=None"
      ]
    },
    {
      "cell_type": "code",
      "execution_count": null,
      "id": "f5dcd186",
      "metadata": {
        "id": "f5dcd186"
      },
      "outputs": [],
      "source": [
        "df = pd.read_csv(\"/content/week1_1.csv\", header=None)  # 첫 행이 컬럼명이 아니고, 컬럼명 없이 데이터로만 이뤄져 있을 때.\n",
        "df.head()"
      ]
    },
    {
      "cell_type": "markdown",
      "id": "df2f6f58",
      "metadata": {
        "id": "df2f6f58"
      },
      "source": [
        "### names"
      ]
    },
    {
      "cell_type": "code",
      "execution_count": null,
      "id": "c697cb31",
      "metadata": {
        "id": "c697cb31"
      },
      "outputs": [],
      "source": [
        "df = pd.read_csv(\"/content/week1_1.csv\", names=['c1', 'c2', 'c3', 'c4', 'c5', 'c6'])  # 위와 같은 상황에서 따로 컬럼명을 지정해주고 싶을 때.\n",
        "df.head()"
      ]
    },
    {
      "cell_type": "markdown",
      "id": "dc8dfe5b",
      "metadata": {
        "id": "dc8dfe5b"
      },
      "source": [
        "### header=None & names"
      ]
    },
    {
      "cell_type": "code",
      "execution_count": null,
      "id": "8dfeb98b",
      "metadata": {
        "id": "8dfeb98b"
      },
      "outputs": [],
      "source": [
        "df = pd.read_csv(\"/content/week1_1.csv\", header=None, names=['c1', 'c2', 'c3', 'c4', 'c5', 'c6'])  # 첫 행이 컬럼명이 맞는데, 컬럼명을 새로 지정해주고 싶을 때.\n",
        "df.head()"
      ]
    },
    {
      "cell_type": "markdown",
      "id": "6f426357",
      "metadata": {
        "id": "6f426357"
      },
      "source": [
        "### header=1"
      ]
    },
    {
      "cell_type": "code",
      "execution_count": null,
      "id": "19d58db2",
      "metadata": {
        "id": "19d58db2"
      },
      "outputs": [],
      "source": [
        "df = pd.read_csv(\"/content/week1_1.csv\", header=1) # 두번 째 행을 컬럼명으로 하고 싶을 때 (주로 엑셀 형태로 관리되었던 파일에서 사용.)\n",
        "df.head()"
      ]
    },
    {
      "cell_type": "markdown",
      "id": "6b098c4e",
      "metadata": {
        "id": "6b098c4e"
      },
      "source": [
        "# INDEX"
      ]
    },
    {
      "cell_type": "code",
      "execution_count": null,
      "id": "2e7fe762",
      "metadata": {
        "id": "2e7fe762"
      },
      "outputs": [],
      "source": [
        "df = pd.read_csv(\"/content/week1_1.csv\")\n",
        "df.head()"
      ]
    },
    {
      "cell_type": "code",
      "execution_count": null,
      "id": "367af41e",
      "metadata": {
        "id": "367af41e"
      },
      "outputs": [],
      "source": [
        "df = pd.read_csv(\"/content/week1_1.csv\", index_col=0)  # 첫번째 열을 index로 사용하고 싶을 때.\n",
        "df.head()"
      ]
    },
    {
      "cell_type": "code",
      "execution_count": null,
      "id": "3de25067",
      "metadata": {
        "id": "3de25067"
      },
      "outputs": [],
      "source": [
        "df = pd.read_csv(\"/content/week1_1.csv\", index_col=0)  # 첫번째 열을 index로 사용하고 싶을 때.\n",
        "df.index.name = None  # index name 을 없애고 싶을 때.\n",
        "print (df.index.dtype)\n",
        "df.head()"
      ]
    },
    {
      "cell_type": "markdown",
      "id": "ff7ddb5c",
      "metadata": {
        "id": "ff7ddb5c"
      },
      "source": [
        "### parse_dates"
      ]
    },
    {
      "cell_type": "code",
      "execution_count": null,
      "id": "f9fa8629",
      "metadata": {
        "id": "f9fa8629"
      },
      "outputs": [],
      "source": [
        "# 첫 번째 열을 날짜 형태의 인덱스로 사용\n",
        "df = pd.read_csv(\"/content/week1_1.csv\", index_col=0, parse_dates=True)  # parse_dates=True면 index를 dates 형태로 파싱.\n",
        "df.index.name = None  # index name 을 없애고 싶을 때.\n",
        "print (df.index.dtype)\n",
        "df.head()"
      ]
    },
    {
      "cell_type": "code",
      "execution_count": null,
      "id": "8fa57ef7",
      "metadata": {
        "id": "8fa57ef7"
      },
      "outputs": [],
      "source": [
        "# 좋은 점\n",
        "df[df.index.month == 10]"
      ]
    },
    {
      "cell_type": "code",
      "execution_count": null,
      "id": "3ac14187",
      "metadata": {
        "id": "3ac14187"
      },
      "outputs": [],
      "source": [
        "from datetime import datetime"
      ]
    },
    {
      "cell_type": "code",
      "execution_count": null,
      "id": "63d7faf8",
      "metadata": {
        "id": "63d7faf8"
      },
      "outputs": [],
      "source": [
        "# datetime 객체를 사용하여 2023년 10월 1일 이후의 데이터만 선택\n",
        "cutoff_date = datetime(2023, 10, 1)  # 조건으로 사용할 날짜\n",
        "df[df.index > cutoff_date]"
      ]
    },
    {
      "cell_type": "code",
      "execution_count": null,
      "id": "a5a373ad",
      "metadata": {
        "id": "a5a373ad"
      },
      "outputs": [],
      "source": [
        "# 첫 번째 열을 날짜 형태의 인덱스로 사용\n",
        "df = pd.read_csv(\"/content/week1_1.csv\", index_col=0, parse_dates=True)  # parse_dates=True면 index를 dates 형태로 파싱.\n",
        "df.index.name = None  # index name 을 없애고 싶을 때.\n",
        "print (df.index.dtype)\n",
        "df.head()"
      ]
    },
    {
      "cell_type": "code",
      "execution_count": null,
      "id": "730273b3",
      "metadata": {
        "id": "730273b3"
      },
      "outputs": [],
      "source": [
        "df = pd.read_csv(\"/content/week1_1.csv\")\n",
        "df.dtypes"
      ]
    },
    {
      "cell_type": "code",
      "execution_count": null,
      "id": "3da152c8",
      "metadata": {
        "id": "3da152c8"
      },
      "outputs": [],
      "source": [
        "df = pd.read_csv(\"/content/week1_1.csv\")\n",
        "df['datetime'] = pd.to_datetime(df['datetime'])\n",
        "df.head()"
      ]
    },
    {
      "cell_type": "code",
      "execution_count": null,
      "id": "fb45ee68",
      "metadata": {
        "id": "fb45ee68"
      },
      "outputs": [],
      "source": [
        "df.dtypes"
      ]
    },
    {
      "cell_type": "markdown",
      "id": "273b56d2",
      "metadata": {
        "id": "273b56d2"
      },
      "source": [
        "### dtype"
      ]
    },
    {
      "cell_type": "code",
      "execution_count": null,
      "id": "f845658e",
      "metadata": {
        "id": "f845658e"
      },
      "outputs": [],
      "source": [
        "df = pd.read_csv(\"/content/week1_1.csv\", dtype={'number':'object'})\n",
        "df.dtypes"
      ]
    },
    {
      "cell_type": "markdown",
      "id": "c0d658a9",
      "metadata": {
        "id": "c0d658a9"
      },
      "source": [
        "# XML Data 파싱"
      ]
    },
    {
      "cell_type": "code",
      "execution_count": null,
      "id": "f857fe7d",
      "metadata": {
        "id": "f857fe7d"
      },
      "outputs": [],
      "source": [
        "# ! pip install requests"
      ]
    },
    {
      "cell_type": "code",
      "execution_count": null,
      "id": "5c8a435d",
      "metadata": {
        "id": "5c8a435d"
      },
      "outputs": [],
      "source": [
        "import requests\n",
        "\n",
        "serviceKey = \"\"  # 일반 인증키 (Decoding)\n",
        "\n",
        "url = 'http://apis.data.go.kr/B551182/yadmOpCloInfoService1/getHospPharmacyOpCloList'\n",
        "params ={'serviceKey' : serviceKey, 'numOfRows' : '10', 'pageNo' : '1', 'crtrYm' : '202401', 'yadmTp' : '1', 'opCloTp' : '1' }\n",
        "\n",
        "response = requests.get(url, params=params)\n",
        "# print(response.content)  # bytes 형태여서 보기 힘듦.\n",
        "content = response.content.decode('utf-8')  # utf-8로 디코딩함.\n",
        "print(content)"
      ]
    },
    {
      "cell_type": "code",
      "execution_count": null,
      "id": "fec01afd",
      "metadata": {
        "id": "fec01afd"
      },
      "outputs": [],
      "source": [
        "# ! pip install lxml"
      ]
    },
    {
      "cell_type": "code",
      "execution_count": null,
      "id": "a6e92eac",
      "metadata": {
        "id": "a6e92eac"
      },
      "outputs": [],
      "source": [
        "df = pd.read_xml(response.content, xpath=\".//item\")  # 추가된 코드\n",
        "df"
      ]
    },
    {
      "cell_type": "markdown",
      "id": "3fa60cad",
      "metadata": {
        "id": "3fa60cad"
      },
      "source": [
        "# to_csv"
      ]
    },
    {
      "cell_type": "code",
      "execution_count": null,
      "id": "c3b11fee",
      "metadata": {
        "id": "c3b11fee"
      },
      "outputs": [],
      "source": [
        "df.to_csv(\"file_name.csv\")  # 가장 일반적인 형태"
      ]
    },
    {
      "cell_type": "markdown",
      "id": "99cf449a",
      "metadata": {
        "id": "99cf449a"
      },
      "source": [
        "###  encoding"
      ]
    },
    {
      "cell_type": "code",
      "execution_count": null,
      "id": "3920a26b",
      "metadata": {
        "id": "3920a26b"
      },
      "outputs": [],
      "source": [
        "df.to_csv(\"file_name.csv\", encoding='cp949')  # encoding의 default는 utf-8."
      ]
    },
    {
      "cell_type": "markdown",
      "id": "e7870dcf",
      "metadata": {
        "id": "e7870dcf"
      },
      "source": [
        "### index, header"
      ]
    },
    {
      "cell_type": "code",
      "execution_count": null,
      "id": "ec89de74",
      "metadata": {
        "id": "ec89de74"
      },
      "outputs": [],
      "source": [
        "df.to_csv(\"file_name.csv\", index=False)  # index를 저장하고 싶지 않을 때."
      ]
    },
    {
      "cell_type": "code",
      "execution_count": null,
      "id": "aadc0cd6",
      "metadata": {
        "id": "aadc0cd6"
      },
      "outputs": [],
      "source": [
        "df.to_csv(\"file_name.csv\", header=False)  # header를 저장하고 싶지 않을 때. (자주 사용X)"
      ]
    },
    {
      "cell_type": "markdown",
      "id": "0ff6382f",
      "metadata": {
        "id": "0ff6382f"
      },
      "source": [
        "### mode"
      ]
    },
    {
      "cell_type": "code",
      "execution_count": null,
      "id": "8e2e4c65",
      "metadata": {
        "id": "8e2e4c65"
      },
      "outputs": [],
      "source": [
        "df.to_csv(\"file_name.csv\", mode='w')  # 파일이 이미 있을 경우 덮어 쓰기."
      ]
    },
    {
      "cell_type": "code",
      "execution_count": null,
      "id": "0f94caef",
      "metadata": {
        "id": "0f94caef"
      },
      "outputs": [],
      "source": [
        "df.to_csv(\"file_name.csv\", mode='a')  # 파일이 이미 있을 경우 append하기 (모델 성능을 csv파일로 저장할 때.)"
      ]
    },
    {
      "cell_type": "code",
      "execution_count": null,
      "id": "07dc2a88",
      "metadata": {
        "id": "07dc2a88"
      },
      "outputs": [],
      "source": [
        "df.to_csv(\"file_name.csv\", mode='x')  # 파일이 이미 있을 경우 생성 안 함."
      ]
    },
    {
      "cell_type": "code",
      "execution_count": null,
      "id": "d0be06ac",
      "metadata": {
        "id": "d0be06ac"
      },
      "outputs": [],
      "source": [
        "df.to_csv(\"file_name.tsv\", sep='\\t')  # tsv로 저장 (자주 사용X)"
      ]
    },
    {
      "cell_type": "code",
      "execution_count": null,
      "id": "288e520f",
      "metadata": {
        "id": "288e520f"
      },
      "outputs": [],
      "source": []
    }
  ],
  "metadata": {
    "kernelspec": {
      "display_name": "Python 3 (ipykernel)",
      "language": "python",
      "name": "python3"
    },
    "language_info": {
      "codemirror_mode": {
        "name": "ipython",
        "version": 3
      },
      "file_extension": ".py",
      "mimetype": "text/x-python",
      "name": "python",
      "nbconvert_exporter": "python",
      "pygments_lexer": "ipython3",
      "version": "3.9.18"
    },
    "colab": {
      "provenance": []
    }
  },
  "nbformat": 4,
  "nbformat_minor": 5
}